{
 "cells": [
  {
   "cell_type": "code",
   "execution_count": 3,
   "metadata": {},
   "outputs": [],
   "source": [
    "import numpy as np\n",
    "import pandas as pd\n",
    "\n",
    "from sklearn.feature_extraction.text import TfidfVectorizer\n",
    "from nltk.corpus import stopwords\n",
    "from sklearn.svm import SVC\n",
    "\n",
    "from nltk.corpus import stopwords\n",
    "\n",
    "\n",
    "import warnings\n",
    "warnings.simplefilter(action='ignore')"
   ]
  },
  {
   "cell_type": "code",
   "execution_count": 4,
   "metadata": {},
   "outputs": [],
   "source": [
    "salary_data = pd.read_csv(\"cleaned_salary_data.csv\")"
   ]
  },
  {
   "cell_type": "code",
   "execution_count": 5,
   "metadata": {},
   "outputs": [],
   "source": [
    "x = salary_data.Location.value_counts()"
   ]
  },
  {
   "cell_type": "code",
   "execution_count": 6,
   "metadata": {},
   "outputs": [],
   "source": [
    "list_of_others = []\n",
    "for key,value in x.items():\n",
    "    if value <= 20:\n",
    "        list_of_others.append(key)\n",
    "#print(list_of_others)"
   ]
  },
  {
   "cell_type": "code",
   "execution_count": 7,
   "metadata": {},
   "outputs": [],
   "source": [
    "for i in range(len(salary_data)):\n",
    "    if salary_data.loc[i,'Location'] in list_of_others:\n",
    "        #count+=1\n",
    "        salary_data.loc[i,'Location'] = 'Others'"
   ]
  },
  {
   "cell_type": "code",
   "execution_count": 8,
   "metadata": {},
   "outputs": [],
   "source": [
    "salary_data = salary_data[salary_data['Location'] != 'None']"
   ]
  },
  {
   "cell_type": "code",
   "execution_count": 9,
   "metadata": {},
   "outputs": [
    {
     "data": {
      "text/plain": [
       "Others        352\n",
       "Bengaluru     228\n",
       "Pune          110\n",
       "Hyderabad      99\n",
       "Mumbai         89\n",
       "Jaipur         83\n",
       "Chennai        74\n",
       "Ahmedabad      69\n",
       "Delhi          63\n",
       "Gurgaon        52\n",
       "Noida          50\n",
       "Indore         36\n",
       "Kochi          34\n",
       "Kolkata        34\n",
       "Coimbatore     32\n",
       "Mohali         30\n",
       "New Delhi      30\n",
       "India          28\n",
       "Surat          25\n",
       "Name: Location, dtype: int64"
      ]
     },
     "execution_count": 9,
     "metadata": {},
     "output_type": "execute_result"
    }
   ],
   "source": [
    "salary_data.Location.value_counts()"
   ]
  },
  {
   "cell_type": "code",
   "execution_count": 10,
   "metadata": {},
   "outputs": [
    {
     "data": {
      "text/plain": [
       "(1518, 5)"
      ]
     },
     "execution_count": 10,
     "metadata": {},
     "output_type": "execute_result"
    }
   ],
   "source": [
    "salary_data.shape"
   ]
  },
  {
   "cell_type": "code",
   "execution_count": 11,
   "metadata": {},
   "outputs": [],
   "source": [
    "#drop all the salaries having 0 vlaues and salaries >200000\n",
    "salary_data.drop(salary_data[salary_data['Salary']==0.0].index,inplace=True)\n",
    "salary_data.drop(salary_data['Salary'][salary_data['Salary'].apply(lambda x: len(str(x).split('.',1)[0])>7)].index,inplace=True)\n",
    "salary_data.drop(salary_data['Salary'][salary_data['Salary'].apply(lambda x: len(str(x).split('.',1)[0])<5)].index,inplace=True)\n",
    "salary_data.drop(salary_data[salary_data['Salary']>900000].index,inplace=True)"
   ]
  },
  {
   "cell_type": "code",
   "execution_count": 12,
   "metadata": {},
   "outputs": [
    {
     "data": {
      "text/plain": [
       "(1352, 5)"
      ]
     },
     "execution_count": 12,
     "metadata": {},
     "output_type": "execute_result"
    }
   ],
   "source": [
    "salary_data.shape"
   ]
  },
  {
   "cell_type": "code",
   "execution_count": 13,
   "metadata": {},
   "outputs": [
    {
     "data": {
      "text/plain": [
       "10000.0"
      ]
     },
     "execution_count": 13,
     "metadata": {},
     "output_type": "execute_result"
    }
   ],
   "source": [
    "min(salary_data['Salary'])"
   ]
  },
  {
   "cell_type": "code",
   "execution_count": 14,
   "metadata": {},
   "outputs": [
    {
     "data": {
      "text/plain": [
       "900000.0"
      ]
     },
     "execution_count": 14,
     "metadata": {},
     "output_type": "execute_result"
    }
   ],
   "source": [
    "max(salary_data['Salary'])"
   ]
  },
  {
   "cell_type": "code",
   "execution_count": 15,
   "metadata": {},
   "outputs": [],
   "source": [
    "#function to classify salary as High, Medium and low\n",
    "def categorize_salary(salary):\n",
    "    if salary <= 250000:\n",
    "           return 'Low'\n",
    "    elif (salary > 250000) & (salary  <= 420000):\n",
    "        return 'Medium'\n",
    "    else:\n",
    "        return 'High'"
   ]
  },
  {
   "cell_type": "code",
   "execution_count": 16,
   "metadata": {},
   "outputs": [
    {
     "data": {
      "text/plain": [
       "Medium    0.360947\n",
       "Low       0.352811\n",
       "High      0.286243\n",
       "Name: Salary, dtype: float64"
      ]
     },
     "execution_count": 16,
     "metadata": {},
     "output_type": "execute_result"
    }
   ],
   "source": [
    "salary_data['Salary'] = salary_data['Salary'].apply(lambda x: str(x))\n",
    "\n",
    "salary_data['Salary'] = salary_data['Salary'].apply(lambda x: categorize_salary(float(x)))\n",
    "\n",
    "salary_data['Salary'].value_counts(normalize = True)"
   ]
  },
  {
   "cell_type": "markdown",
   "metadata": {},
   "source": [
    "### Trying to predict salary with Titles and Location using SVM"
   ]
  },
  {
   "cell_type": "code",
   "execution_count": 17,
   "metadata": {},
   "outputs": [],
   "source": [
    "X_titles = salary_data['Title']"
   ]
  },
  {
   "cell_type": "code",
   "execution_count": 19,
   "metadata": {},
   "outputs": [
    {
     "data": {
      "text/plain": [
       "(1352,)"
      ]
     },
     "execution_count": 19,
     "metadata": {},
     "output_type": "execute_result"
    }
   ],
   "source": [
    "X_titles.shape"
   ]
  },
  {
   "cell_type": "code",
   "execution_count": 20,
   "metadata": {},
   "outputs": [],
   "source": [
    "custom_stop_words = ['role','risk','specialist','company','program','multiple','process','machine','data']"
   ]
  },
  {
   "cell_type": "code",
   "execution_count": 21,
   "metadata": {},
   "outputs": [],
   "source": [
    "stopwords = stopwords.words('english')\n",
    "stopwords.extend(custom_stop_words)"
   ]
  },
  {
   "cell_type": "code",
   "execution_count": 22,
   "metadata": {},
   "outputs": [],
   "source": [
    "#define a funciton to generate tfidf vector from text data\n",
    "def create_tfidf_vec(data):\n",
    "    tfidf = TfidfVectorizer(stop_words=stopwords,max_df=1000,min_df=1,sublinear_tf=True,ngram_range=(1,2))\n",
    "    tfidf.fit(data)\n",
    "    X_vec = pd.DataFrame(tfidf.transform(data).todense(), columns=tfidf.get_feature_names())\n",
    "    return X_vec"
   ]
  },
  {
   "cell_type": "code",
   "execution_count": 23,
   "metadata": {},
   "outputs": [],
   "source": [
    "X_titles_vec = create_tfidf_vec(X_titles)"
   ]
  },
  {
   "cell_type": "code",
   "execution_count": 24,
   "metadata": {},
   "outputs": [
    {
     "data": {
      "text/plain": [
       "(1352, 22)"
      ]
     },
     "execution_count": 24,
     "metadata": {},
     "output_type": "execute_result"
    }
   ],
   "source": [
    "X_titles_vec.shape"
   ]
  },
  {
   "cell_type": "code",
   "execution_count": 25,
   "metadata": {},
   "outputs": [
    {
     "data": {
      "text/plain": [
       "Index(['analyst', 'app', 'app developer', 'cloud', 'cloud devops', 'devops',\n",
       "       'devops engineer', 'engineer', 'full', 'full stack', 'learning',\n",
       "       'learning engineer', 'research', 'research analyst', 'scientist',\n",
       "       'scientist analyst', 'software', 'software developer', 'stack',\n",
       "       'stack developer', 'web', 'web developer'],\n",
       "      dtype='object')"
      ]
     },
     "execution_count": 25,
     "metadata": {},
     "output_type": "execute_result"
    }
   ],
   "source": [
    "X_titles_vec.columns"
   ]
  },
  {
   "cell_type": "code",
   "execution_count": 26,
   "metadata": {},
   "outputs": [
    {
     "data": {
      "text/plain": [
       "web developer         398.101118\n",
       "web                   398.101118\n",
       "software developer    188.797511\n",
       "software              188.797511\n",
       "stack developer       124.500000\n",
       "stack                 124.500000\n",
       "full                  124.500000\n",
       "full stack            124.500000\n",
       "app                   104.651804\n",
       "app developer         104.651804\n",
       "analyst                31.529979\n",
       "engineer               28.686654\n",
       "scientist              24.328718\n",
       "scientist analyst      24.328718\n",
       "devops engineer        18.698100\n",
       "devops                 18.698100\n",
       "cloud devops           18.698100\n",
       "cloud                  18.698100\n",
       "learning engineer      14.746329\n",
       "learning               14.746329\n",
       "research               11.742687\n",
       "research analyst       11.742687\n",
       "dtype: float64"
      ]
     },
     "execution_count": 26,
     "metadata": {},
     "output_type": "execute_result"
    }
   ],
   "source": [
    "#use this information to create your own custom words list. remove all the words that are not giving much information by adding them\n",
    "#to stop words\n",
    "word_counts = X_titles_vec.sum(axis=0)\n",
    "word_counts.sort_values(ascending = False).head(100)"
   ]
  },
  {
   "cell_type": "code",
   "execution_count": 27,
   "metadata": {},
   "outputs": [
    {
     "data": {
      "text/plain": [
       "Medium    488\n",
       "Low       477\n",
       "High      387\n",
       "Name: Salary, dtype: int64"
      ]
     },
     "execution_count": 27,
     "metadata": {},
     "output_type": "execute_result"
    }
   ],
   "source": [
    "salary_data['Salary'].value_counts()"
   ]
  },
  {
   "cell_type": "code",
   "execution_count": 28,
   "metadata": {},
   "outputs": [],
   "source": [
    "#function to resample class to make the data balanced\n",
    "\n",
    "def upsample_class(salary_data):\n",
    "    df_low = salary_data[salary_data['Salary']=='Low']\n",
    "    df_medium = salary_data[salary_data['Salary']=='Medium']\n",
    "    df_high = salary_data[salary_data['Salary']=='High']  \n",
    "    \n",
    "    # Upsample minority class\n",
    "    df_high_upsampled = resample(df_high, \n",
    "                                     replace=True,     # sample with replacement\n",
    "                                     n_samples=420,    # to match majority class\n",
    "                                     random_state=47) # reproducible results\n",
    "\n",
    "    df_upsampled = pd.concat([df_low,df_high_upsampled,df_medium])\n",
    " \n",
    "    return df_upsampled"
   ]
  },
  {
   "cell_type": "code",
   "execution_count": 29,
   "metadata": {},
   "outputs": [
    {
     "data": {
      "text/plain": [
       "(1352, 5)"
      ]
     },
     "execution_count": 29,
     "metadata": {},
     "output_type": "execute_result"
    }
   ],
   "source": [
    "salary_data.shape"
   ]
  },
  {
   "cell_type": "code",
   "execution_count": 30,
   "metadata": {},
   "outputs": [
    {
     "data": {
      "text/plain": [
       "(1385, 5)"
      ]
     },
     "execution_count": 30,
     "metadata": {},
     "output_type": "execute_result"
    }
   ],
   "source": [
    "df_upsampled = upsample_class(salary_data)\n",
    "df_upsampled.shape"
   ]
  },
  {
   "cell_type": "code",
   "execution_count": 31,
   "metadata": {},
   "outputs": [],
   "source": [
    "#preprocess the text of resampled dataframe\n",
    "X_upsampled_titles = df_upsampled['Title']"
   ]
  },
  {
   "cell_type": "code",
   "execution_count": 32,
   "metadata": {},
   "outputs": [
    {
     "data": {
      "text/plain": [
       "(1385,)"
      ]
     },
     "execution_count": 32,
     "metadata": {},
     "output_type": "execute_result"
    }
   ],
   "source": [
    "X_upsampled_titles.shape"
   ]
  },
  {
   "cell_type": "code",
   "execution_count": 33,
   "metadata": {},
   "outputs": [
    {
     "data": {
      "text/plain": [
       "(1385, 22)"
      ]
     },
     "execution_count": 33,
     "metadata": {},
     "output_type": "execute_result"
    }
   ],
   "source": [
    "#generate the Tfidf vector from resampled dataframe\n",
    "X_upsampled_titles_vec = create_tfidf_vec(X_upsampled_titles)\n",
    "X_upsampled_titles_vec.shape"
   ]
  },
  {
   "cell_type": "code",
   "execution_count": 34,
   "metadata": {},
   "outputs": [
    {
     "data": {
      "text/plain": [
       "(1385,)"
      ]
     },
     "execution_count": 34,
     "metadata": {},
     "output_type": "execute_result"
    }
   ],
   "source": [
    "df_upsampled['Salary'].shape"
   ]
  },
  {
   "cell_type": "code",
   "execution_count": 35,
   "metadata": {},
   "outputs": [],
   "source": [
    "df_upsampled.reset_index(drop = True, inplace = True)"
   ]
  },
  {
   "cell_type": "code",
   "execution_count": 36,
   "metadata": {},
   "outputs": [
    {
     "data": {
      "text/html": [
       "<div>\n",
       "<style scoped>\n",
       "    .dataframe tbody tr th:only-of-type {\n",
       "        vertical-align: middle;\n",
       "    }\n",
       "\n",
       "    .dataframe tbody tr th {\n",
       "        vertical-align: top;\n",
       "    }\n",
       "\n",
       "    .dataframe thead th {\n",
       "        text-align: right;\n",
       "    }\n",
       "</style>\n",
       "<table border=\"1\" class=\"dataframe\">\n",
       "  <thead>\n",
       "    <tr style=\"text-align: right;\">\n",
       "      <th></th>\n",
       "      <th>Title</th>\n",
       "      <th>Location</th>\n",
       "      <th>Company</th>\n",
       "      <th>Salary</th>\n",
       "      <th>Description</th>\n",
       "    </tr>\n",
       "  </thead>\n",
       "  <tbody>\n",
       "    <tr>\n",
       "      <th>0</th>\n",
       "      <td>App Developer</td>\n",
       "      <td>Gurgaon</td>\n",
       "      <td>Atechnos</td>\n",
       "      <td>Low</td>\n",
       "      <td>profile abhay techno service pvt ltd atechnos ...</td>\n",
       "    </tr>\n",
       "    <tr>\n",
       "      <th>1</th>\n",
       "      <td>App Developer</td>\n",
       "      <td>Mohali</td>\n",
       "      <td>Mansa Infotech® Pvt. Ltd.</td>\n",
       "      <td>Low</td>\n",
       "      <td>motivated talented android developer talented ...</td>\n",
       "    </tr>\n",
       "    <tr>\n",
       "      <th>2</th>\n",
       "      <td>App Developer</td>\n",
       "      <td>Pune</td>\n",
       "      <td>Impel Task HR Pvt Ltd</td>\n",
       "      <td>Low</td>\n",
       "      <td>requirement android developer jd follows 1 2 p...</td>\n",
       "    </tr>\n",
       "    <tr>\n",
       "      <th>3</th>\n",
       "      <td>App Developer</td>\n",
       "      <td>Noida</td>\n",
       "      <td>FoundLay Technologies Pvt. Ltd.</td>\n",
       "      <td>Low</td>\n",
       "      <td>immediate joining 6 month hand mobile app  mob...</td>\n",
       "    </tr>\n",
       "    <tr>\n",
       "      <th>4</th>\n",
       "      <td>Data Scientist and Analyst</td>\n",
       "      <td>Others</td>\n",
       "      <td>Indian Elites Outsourcing Services</td>\n",
       "      <td>Low</td>\n",
       "      <td>perform market research activity market mappin...</td>\n",
       "    </tr>\n",
       "  </tbody>\n",
       "</table>\n",
       "</div>"
      ],
      "text/plain": [
       "                        Title Location                             Company  \\\n",
       "0               App Developer  Gurgaon                            Atechnos   \n",
       "1               App Developer   Mohali           Mansa Infotech® Pvt. Ltd.   \n",
       "2               App Developer     Pune               Impel Task HR Pvt Ltd   \n",
       "3               App Developer    Noida     FoundLay Technologies Pvt. Ltd.   \n",
       "4  Data Scientist and Analyst   Others  Indian Elites Outsourcing Services   \n",
       "\n",
       "  Salary                                        Description  \n",
       "0    Low  profile abhay techno service pvt ltd atechnos ...  \n",
       "1    Low  motivated talented android developer talented ...  \n",
       "2    Low  requirement android developer jd follows 1 2 p...  \n",
       "3    Low  immediate joining 6 month hand mobile app  mob...  \n",
       "4    Low  perform market research activity market mappin...  "
      ]
     },
     "execution_count": 36,
     "metadata": {},
     "output_type": "execute_result"
    }
   ],
   "source": [
    "df_upsampled.head()"
   ]
  },
  {
   "cell_type": "code",
   "execution_count": 37,
   "metadata": {},
   "outputs": [],
   "source": [
    "#getting dummies of location\n",
    "df_upsampled_location = pd.get_dummies(df_upsampled['Location'])"
   ]
  },
  {
   "cell_type": "code",
   "execution_count": 38,
   "metadata": {},
   "outputs": [
    {
     "data": {
      "text/plain": [
       "((1385, 22), (1385, 19))"
      ]
     },
     "execution_count": 38,
     "metadata": {},
     "output_type": "execute_result"
    }
   ],
   "source": [
    "X_upsampled_titles_vec.shape, df_upsampled_location.shape"
   ]
  },
  {
   "cell_type": "code",
   "execution_count": 39,
   "metadata": {},
   "outputs": [],
   "source": [
    "df_upsampled_location.reset_index(drop=True,inplace=True)"
   ]
  },
  {
   "cell_type": "code",
   "execution_count": 42,
   "metadata": {},
   "outputs": [
    {
     "data": {
      "text/plain": [
       "Index(['Ahmedabad', 'Bengaluru', 'Chennai', 'Coimbatore', 'Delhi', 'Gurgaon',\n",
       "       'Hyderabad', 'India', 'Indore', 'Jaipur', 'Kochi', 'Kolkata', 'Mohali',\n",
       "       'Mumbai', 'New Delhi', 'Noida', 'Others', 'Pune', 'Surat'],\n",
       "      dtype='object')"
      ]
     },
     "execution_count": 42,
     "metadata": {},
     "output_type": "execute_result"
    }
   ],
   "source": [
    "df_upsampled_location.columns"
   ]
  },
  {
   "cell_type": "code",
   "execution_count": 43,
   "metadata": {},
   "outputs": [],
   "source": [
    "#concatinating job titles vector with location\n",
    "X_upsampled_titles_location_vec = pd.concat([X_upsampled_titles_vec,df_upsampled_location],axis=1,ignore_index=True)"
   ]
  },
  {
   "cell_type": "code",
   "execution_count": 44,
   "metadata": {},
   "outputs": [
    {
     "data": {
      "text/plain": [
       "(1385, 41)"
      ]
     },
     "execution_count": 44,
     "metadata": {},
     "output_type": "execute_result"
    }
   ],
   "source": [
    "X_upsampled_titles_location_vec.shape"
   ]
  },
  {
   "cell_type": "code",
   "execution_count": 45,
   "metadata": {},
   "outputs": [],
   "source": [
    "df_upsampled_location.reset_index(drop=True,inplace=True)"
   ]
  },
  {
   "cell_type": "code",
   "execution_count": 46,
   "metadata": {},
   "outputs": [],
   "source": [
    "#concatenating job titles vector with location\n",
    "X_upsampled_titles_location_vec = pd.concat([X_upsampled_titles_vec,df_upsampled_location],axis=1,ignore_index=True)"
   ]
  },
  {
   "cell_type": "code",
   "execution_count": 47,
   "metadata": {},
   "outputs": [
    {
     "data": {
      "text/plain": [
       "(1385, 41)"
      ]
     },
     "execution_count": 47,
     "metadata": {},
     "output_type": "execute_result"
    }
   ],
   "source": [
    "X_upsampled_titles_location_vec.shape"
   ]
  },
  {
   "cell_type": "code",
   "execution_count": 48,
   "metadata": {},
   "outputs": [
    {
     "data": {
      "text/plain": [
       "(1385,)"
      ]
     },
     "execution_count": 48,
     "metadata": {},
     "output_type": "execute_result"
    }
   ],
   "source": [
    "df_upsampled['Salary'].shape"
   ]
  },
  {
   "cell_type": "code",
   "execution_count": 49,
   "metadata": {},
   "outputs": [
    {
     "data": {
      "text/plain": [
       "['analyst',\n",
       " 'app',\n",
       " 'app developer',\n",
       " 'cloud',\n",
       " 'cloud devops',\n",
       " 'devops',\n",
       " 'devops engineer',\n",
       " 'engineer',\n",
       " 'full',\n",
       " 'full stack',\n",
       " 'learning',\n",
       " 'learning engineer',\n",
       " 'research',\n",
       " 'research analyst',\n",
       " 'scientist',\n",
       " 'scientist analyst',\n",
       " 'software',\n",
       " 'software developer',\n",
       " 'stack',\n",
       " 'stack developer',\n",
       " 'web',\n",
       " 'web developer',\n",
       " 'Ahmedabad',\n",
       " 'Bengaluru',\n",
       " 'Chennai',\n",
       " 'Coimbatore',\n",
       " 'Delhi',\n",
       " 'Gurgaon',\n",
       " 'Hyderabad',\n",
       " 'India',\n",
       " 'Indore',\n",
       " 'Jaipur',\n",
       " 'Kochi',\n",
       " 'Kolkata',\n",
       " 'Mohali',\n",
       " 'Mumbai',\n",
       " 'New Delhi',\n",
       " 'Noida',\n",
       " 'Others',\n",
       " 'Pune',\n",
       " 'Surat']"
      ]
     },
     "execution_count": 49,
     "metadata": {},
     "output_type": "execute_result"
    }
   ],
   "source": [
    "col_names = list(X_titles_vec.columns) + list(df_upsampled_location)\n",
    "col_names"
   ]
  },
  {
   "cell_type": "code",
   "execution_count": 52,
   "metadata": {},
   "outputs": [],
   "source": [
    "svm_model = SVC(kernel='rbf',C=5,gamma=0.5)"
   ]
  },
  {
   "cell_type": "code",
   "execution_count": 53,
   "metadata": {},
   "outputs": [],
   "source": [
    "X = X_upsampled_titles_location_vec\n",
    "Y = df_upsampled['Salary']\n",
    "\n",
    "svm_model.fit(X,Y)\n",
    "\n",
    "\n",
    "training_score = svm_model.score(X,Y)\n",
    "#testing_score = svm_model.score(X_test,y_test)\n",
    "#cv_train_score = np.mean(cross_val_score(svm_model,X_train,y_train,cv=5,n_jobs=3))\n",
    "#cv_test_score = np.mean(cross_val_score(svm_model,X_test,y_test,cv=5,n_jobs=3))\n",
    "#y_pred = svm_model.predict(X_test)"
   ]
  },
  {
   "cell_type": "code",
   "execution_count": 54,
   "metadata": {},
   "outputs": [
    {
     "data": {
      "text/plain": [
       "0.5725631768953069"
      ]
     },
     "execution_count": 54,
     "metadata": {},
     "output_type": "execute_result"
    }
   ],
   "source": [
    "training_score"
   ]
  },
  {
   "cell_type": "code",
   "execution_count": 55,
   "metadata": {},
   "outputs": [
    {
     "data": {
      "text/plain": [
       "['model_salary.pkl']"
      ]
     },
     "execution_count": 55,
     "metadata": {},
     "output_type": "execute_result"
    }
   ],
   "source": [
    "from sklearn.externals import joblib \n",
    "  \n",
    "# Save the model as a pickle in a file \n",
    "joblib.dump(svm_model, 'model_salary.pkl') "
   ]
  },
  {
   "cell_type": "code",
   "execution_count": 56,
   "metadata": {},
   "outputs": [],
   "source": [
    "svm_from_joblib = joblib.load('model_salary.pkl') "
   ]
  },
  {
   "cell_type": "code",
   "execution_count": 57,
   "metadata": {},
   "outputs": [],
   "source": [
    "def single_prediction(var,index):\n",
    "    var1 = var['Title']\n",
    "    var_vec = create_tfidf_vec(var1)\n",
    "    var_vector = np.zeros((1,X_titles_vec.shape[1]+df_upsampled_location.shape[1]))\n",
    "    df = pd.DataFrame(var_vector, columns=col_names)\n",
    "    for i in var_vec.columns:\n",
    "        if i in df.columns:\n",
    "            df[i] = var_vec[i]\n",
    "        if var['Location'][index] in df.columns:\n",
    "            df[var['Location']] = 1\n",
    "        else:\n",
    "            df['Others'] = 1\n",
    "    prediction = svm_from_joblib.predict(df)\n",
    "    if prediction == 'High':\n",
    "        return \"450000 - 900000\"\n",
    "    elif prediction == 'Medium':\n",
    "        return \"200000 - 450000\"\n",
    "    else: return \"Below 200000\"\n",
    "    \n"
   ]
  },
  {
   "cell_type": "code",
   "execution_count": 58,
   "metadata": {},
   "outputs": [
    {
     "data": {
      "text/html": [
       "<div>\n",
       "<style scoped>\n",
       "    .dataframe tbody tr th:only-of-type {\n",
       "        vertical-align: middle;\n",
       "    }\n",
       "\n",
       "    .dataframe tbody tr th {\n",
       "        vertical-align: top;\n",
       "    }\n",
       "\n",
       "    .dataframe thead th {\n",
       "        text-align: right;\n",
       "    }\n",
       "</style>\n",
       "<table border=\"1\" class=\"dataframe\">\n",
       "  <thead>\n",
       "    <tr style=\"text-align: right;\">\n",
       "      <th></th>\n",
       "      <th>Location</th>\n",
       "      <th>Title</th>\n",
       "    </tr>\n",
       "  </thead>\n",
       "  <tbody>\n",
       "    <tr>\n",
       "      <th>0</th>\n",
       "      <td>Mumbai</td>\n",
       "      <td>Analyst</td>\n",
       "    </tr>\n",
       "  </tbody>\n",
       "</table>\n",
       "</div>"
      ],
      "text/plain": [
       "  Location    Title\n",
       "0   Mumbai  Analyst"
      ]
     },
     "execution_count": 58,
     "metadata": {},
     "output_type": "execute_result"
    }
   ],
   "source": [
    "location = 'Mumbai'\n",
    "title = 'Analyst'\n",
    "data = [[location, title]]\n",
    "df = pd.DataFrame(data, columns = ['Location', 'Title']) \n",
    "df"
   ]
  },
  {
   "cell_type": "code",
   "execution_count": 59,
   "metadata": {},
   "outputs": [
    {
     "name": "stdout",
     "output_type": "stream",
     "text": [
      "Below 200000\n"
     ]
    }
   ],
   "source": [
    "print(single_prediction(df,0))"
   ]
  },
  {
   "cell_type": "code",
   "execution_count": null,
   "metadata": {},
   "outputs": [],
   "source": []
  }
 ],
 "metadata": {
  "kernelspec": {
   "display_name": "Python 3",
   "language": "python",
   "name": "python3"
  },
  "language_info": {
   "codemirror_mode": {
    "name": "ipython",
    "version": 3
   },
   "file_extension": ".py",
   "mimetype": "text/x-python",
   "name": "python",
   "nbconvert_exporter": "python",
   "pygments_lexer": "ipython3",
   "version": "3.7.6"
  }
 },
 "nbformat": 4,
 "nbformat_minor": 4
}
